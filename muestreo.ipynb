{
 "cells": [
  {
   "cell_type": "code",
   "execution_count": null,
   "id": "64e38ed9-2d37-4bb5-aa74-2aa5d5475466",
   "metadata": {
    "tags": []
   },
   "outputs": [],
   "source": [
    "import pandas as pd"
   ]
  },
  {
   "cell_type": "code",
   "execution_count": null,
   "id": "260c5158-6ac4-407d-87a6-94b4ae09dd62",
   "metadata": {
    "tags": []
   },
   "outputs": [],
   "source": [
    "clientes = pd.read_csv('data/clientes.csv').drop('Unnamed: 0',axis=1)\n",
    "productos = pd.read_csv('data/codprod.csv').drop('Unnamed: 0',axis=1)\n",
    "materiales = pd.read_csv('data/materiales.csv').drop('Unnamed: 0',axis=1)\n",
    "#ventas = pd.read_csv('data/ventas (1).csv').drop('Unnamed: 0',axis=1)"
   ]
  },
  {
   "cell_type": "code",
   "execution_count": null,
   "id": "9428b409-600f-4991-a544-c50b5cc36f2a",
   "metadata": {
    "tags": []
   },
   "outputs": [],
   "source": [
    "# 5.3 M\n",
    "ventas_m_categoria = ventas.groupby('CATEGORIA', group_keys=False).apply(lambda x: x.sample(frac=0.3))\n",
    "ventas_m_tipocanal = ventas.groupby('TIPO_CANAL', group_keys=False).apply(lambda x: x.sample(frac=0.3))\n",
    "ventas_m_canal = ventas.groupby('CANAL', group_keys=False).apply(lambda x: x.sample(frac=0.3))\n",
    "ventas_m_subcanal = ventas.groupby('SUBCANAL', group_keys=False).apply(lambda x: x.sample(frac=0.3))"
   ]
  },
  {
   "cell_type": "code",
   "execution_count": null,
   "id": "f2ee0877-527b-471f-a8a4-a89c694feb7b",
   "metadata": {
    "tags": []
   },
   "outputs": [],
   "source": [
    "# 1.7 M\n",
    "ventas_mm_categoria = ventas.groupby('CATEGORIA', group_keys=False).apply(lambda x: x.sample(frac=0.1))\n",
    "ventas_mm_tipocanal = ventas.groupby('TIPO_CANAL', group_keys=False).apply(lambda x: x.sample(frac=0.1))\n",
    "ventas_mm_canal = ventas.groupby('CANAL', group_keys=False).apply(lambda x: x.sample(frac=0.1))\n",
    "ventas_mm_subcanal = ventas.groupby('SUBCANAL', group_keys=False).apply(lambda x: x.sample(frac=0.1))"
   ]
  },
  {
   "cell_type": "code",
   "execution_count": null,
   "id": "d5eb09d1-e493-41ea-93e1-52ac75447fd8",
   "metadata": {
    "tags": []
   },
   "outputs": [],
   "source": [
    "# 1.7 M\n",
    "ventas_mm_categoria.to_csv('./data/M1.7/categoria_muestra17.csv',index=False)\n",
    "ventas_mm_tipocanal.to_csv('./data/M1.7/tipocanal_muestra17.csv',index=False)\n",
    "ventas_mm_canal.to_csv('./data/M1.7/canal_muestra17.csv',index=False)\n",
    "ventas_mm_subcanal.to_csv('./data/M1.7/subcanal_muestra17.csv',index=False)"
   ]
  },
  {
   "cell_type": "code",
   "execution_count": null,
   "id": "a24ea58c-a597-47d4-a8ad-ec66f03d3583",
   "metadata": {
    "tags": []
   },
   "outputs": [],
   "source": [
    "# 5.3 M\n",
    "ventas_m_categoria.to_csv('./data/M5.3/categoria_muestra53.csv',index=False)\n",
    "ventas_m_tipocanal.to_csv('./data/M5.3/tipocanal_muestra53.csv',index=False)\n",
    "ventas_m_canal.to_csv('./data/M5.3/canal_muestra53.csv',index=False)\n",
    "ventas_m_subcanal.to_csv('./data/M5.3/subcanal_muestra53.csv',index=False)"
   ]
  }
 ],
 "metadata": {
  "kernelspec": {
   "display_name": "Python 3 (ipykernel)",
   "language": "python",
   "name": "python3"
  },
  "language_info": {
   "codemirror_mode": {
    "name": "ipython",
    "version": 3
   },
   "file_extension": ".py",
   "mimetype": "text/x-python",
   "name": "python",
   "nbconvert_exporter": "python",
   "pygments_lexer": "ipython3",
   "version": "3.11.2"
  }
 },
 "nbformat": 4,
 "nbformat_minor": 5
}
